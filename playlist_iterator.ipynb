{
 "cells": [
  {
   "cell_type": "code",
   "execution_count": 1,
   "metadata": {},
   "outputs": [],
   "source": [
    "# Playlist Iterator"
   ]
  },
  {
   "cell_type": "code",
   "execution_count": 2,
   "metadata": {},
   "outputs": [],
   "source": [
    "playlist_dir = \"C:/Users/Colin/Documents/Playlist maker/spotify_playlists/\"\n",
    "#playlist_dir = \"C:/Users/Colin/Documents/Playlist maker/demo_playlists/\""
   ]
  },
  {
   "cell_type": "code",
   "execution_count": 4,
   "metadata": {},
   "outputs": [],
   "source": [
    "#Create playlist iterator object\n",
    "#__iter__ functions like a 'next'\n",
    "\n",
    "#iterate though all rows of all csv files\n",
    "#needs to yield sentences (playlists)\n",
    "\n",
    "class MyPlaylists(object):\n",
    "    def __init__(self, dirname):\n",
    "        self.dirname = dirname\n",
    " \n",
    "    def __iter__(self):\n",
    "        #for fname in os.listdir(self.dirname):\n",
    "        #fnames = [os.listdir(self.dirname)[0]]\n",
    "        fnames = os.listdir(self.dirname)\n",
    "        for fname in fnames: #just first\n",
    "            print('Starting playlist: ' + fname)\n",
    "            fullname = self.dirname + fname\n",
    "            \n",
    "            with open(fullname, 'rt', encoding='utf-8') as csvfile: \n",
    "                \n",
    "                csvfile.seek(5)\n",
    "                print(csvfile.readline())\n",
    "                dialect = csv.Sniffer().sniff(csvfile.readline(), delimiters=';|')\n",
    "                print(dialect.delimiter)\n",
    "                time.sleep(1)\n",
    "\n",
    "                csvfile.seek(0)\n",
    "                spamReader = csv.reader(csvfile, delimiter=dialect.delimiter)\n",
    "                next(spamReader) #skip first playlist title\n",
    "                i = 0\n",
    "                title = False\n",
    "\n",
    "                playlist = []\n",
    "                #row [name, artist, id, sample-url]\n",
    "                for row in spamReader:\n",
    "                    #print(row)\n",
    "                    #time.sleep(0.2)\n",
    "\n",
    "                    i+= 1\n",
    "                    try:\n",
    "                        if row[0] == '':\n",
    "                            #print('empty row')\n",
    "                            yield playlist\n",
    "                            title = True\n",
    "                        elif title == True:\n",
    "                            title = False  \n",
    "                        else:\n",
    "                            artist = row[0].replace(\" \", \"-\").lower()\n",
    "                            song = row[1].replace(\" \", \"-\").lower()\n",
    "                            playlist.append(artist + \"__\" + song)\n",
    "                            if i % 10000 == 0:\n",
    "                                print('Reached song: ' + str(i))\n",
    "                    except IndexError as e:\n",
    "                        print(e)\n",
    "                        print('Index error at row: ' + str(i))\n",
    "                        pass\n",
    "\n",
    "                #return final playlist\n",
    "                yield playlist\n",
    "\n",
    "playlists = MyPlaylists(playlist_dir) # a memory-friendly iterator"
   ]
  },
  {
   "cell_type": "code",
   "execution_count": null,
   "metadata": {},
   "outputs": [],
   "source": [
    "#Test iterator\n",
    "#for play in playlists:\n",
    "#    print(play)"
   ]
  }
 ],
 "metadata": {
  "kernelspec": {
   "display_name": "Python 3",
   "language": "python",
   "name": "python3"
  },
  "language_info": {
   "codemirror_mode": {
    "name": "ipython",
    "version": 3
   },
   "file_extension": ".py",
   "mimetype": "text/x-python",
   "name": "python",
   "nbconvert_exporter": "python",
   "pygments_lexer": "ipython3",
   "version": "3.7.4"
  }
 },
 "nbformat": 4,
 "nbformat_minor": 2
}
