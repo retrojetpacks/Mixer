{
 "cells": [
  {
   "cell_type": "markdown",
   "metadata": {},
   "source": [
    "# Try word2vec on song playlists"
   ]
  },
  {
   "cell_type": "code",
   "execution_count": 1,
   "metadata": {},
   "outputs": [],
   "source": [
    "import os\n",
    "import csv\n",
    "import gensim, logging\n",
    "\n",
    "import time"
   ]
  },
  {
   "cell_type": "code",
   "execution_count": 2,
   "metadata": {},
   "outputs": [],
   "source": [
    "#playlist_dir = \"C:/Users/Colin/Documents/Playlist maker/spotify_playlists/\"\n",
    "playlist_dir = \"C:/Users/Colin/Documents/Playlist maker/demo_playlists/\""
   ]
  },
  {
   "cell_type": "code",
   "execution_count": 30,
   "metadata": {},
   "outputs": [],
   "source": [
    "#Create playlist iterator object\n",
    "#__iter__ functions like a 'next'\n",
    "\n",
    "#iterate though all rows of all csv files\n",
    "#needs to yield sentences (playlists)\n",
    "\n",
    "class MyPlaylists(object):\n",
    "    def __init__(self, dirname):\n",
    "        self.dirname = dirname\n",
    " \n",
    "    def __iter__(self):\n",
    "        for fname in os.listdir(self.dirname):\n",
    "            spamReader = csv.reader(open(self.dirname + fname, 'rt', encoding='utf-8'), delimiter=\"|\")\n",
    "            next(spamReader) #skip first playlist title\n",
    "            \n",
    "            i = 0\n",
    "            title = False\n",
    "            \n",
    "            playlist = []\n",
    "            #row [name, artist, id, sample-url]\n",
    "            for row in spamReader:\n",
    "                if row == ['']:\n",
    "                    i += 1\n",
    "                    if i % 1000 == 0:\n",
    "                        print('Reached playlist: ' + str(i))\n",
    "                    #time.sleep(0.01)\n",
    "                    yield playlist\n",
    "                    title = True\n",
    "                elif title == True:\n",
    "                    title = False  \n",
    "                else:\n",
    "                    artist = row[0].replace(\" \", \"-\")\n",
    "                    song = row[1].replace(\" \", \"-\")\n",
    "                    playlist.append(artist + \"__\" + song)\n",
    "                    \n",
    "            #return final playlist\n",
    "            return playlist\n",
    "        \n",
    "playlists = MyPlaylists(playlist_dir) # a memory-friendly iterator"
   ]
  },
  {
   "cell_type": "code",
   "execution_count": 31,
   "metadata": {},
   "outputs": [],
   "source": [
    "#Test iterator\n",
    "#for play in playlists:\n",
    "#    print(play)"
   ]
  },
  {
   "cell_type": "code",
   "execution_count": 32,
   "metadata": {},
   "outputs": [
    {
     "name": "stdout",
     "output_type": "stream",
     "text": [
      "Reached playlist: 1000\n",
      "Reached playlist: 1000\n",
      "Reached playlist: 1000\n",
      "Reached playlist: 1000\n",
      "Reached playlist: 1000\n",
      "Reached playlist: 1000\n"
     ]
    }
   ],
   "source": [
    "model = gensim.models.Word2Vec(playlists, min_count=10,workers=2)"
   ]
  },
  {
   "cell_type": "code",
   "execution_count": 34,
   "metadata": {},
   "outputs": [
    {
     "name": "stderr",
     "output_type": "stream",
     "text": [
      "C:\\Users\\Colin\\Anaconda3\\lib\\site-packages\\ipykernel_launcher.py:1: DeprecationWarning: Call to deprecated `__getitem__` (Method will be removed in 4.0.0, use self.wv.__getitem__() instead).\n",
      "  \"\"\"Entry point for launching an IPython kernel.\n"
     ]
    },
    {
     "data": {
      "text/plain": [
       "array([-1.2921548e-01, -8.1016648e-01,  9.8719937e-01, -1.2725068e+00,\n",
       "        2.6302315e-02, -1.0329803e+00,  1.5677633e+00,  2.5098947e-01,\n",
       "        3.2115960e-01, -7.1046007e-01, -3.2103679e-01, -9.4763553e-01,\n",
       "       -7.0486557e-01, -1.2741616e+00,  6.8611711e-02,  4.5690355e-01,\n",
       "        1.0132617e-01, -1.7980175e+00, -8.3790510e-04, -2.6156244e-01,\n",
       "        7.3175436e-01,  8.7013912e-01,  2.2090738e-01,  7.6224424e-02,\n",
       "       -2.4854746e-01, -1.9508265e-01,  8.4418461e-02,  4.8914436e-01,\n",
       "       -9.0937752e-01,  1.1137474e+00, -3.7914446e-01,  4.8509058e-02,\n",
       "        4.9981454e-01, -9.0357494e-01,  8.2909185e-01, -8.2472539e-01,\n",
       "       -8.4380776e-01,  4.4770050e-01, -9.1069132e-01, -1.0590297e+00,\n",
       "        5.8036387e-01, -6.1724347e-01,  4.1288739e-01,  4.8195884e-01,\n",
       "       -1.7378851e+00,  6.5763658e-01,  9.2975003e-01,  1.2633419e+00,\n",
       "        9.4051617e-01,  4.3538162e-01,  6.4737603e-02, -1.5803002e+00,\n",
       "       -3.9166632e-01,  1.4796737e-01,  5.0879127e-01,  1.5761821e+00,\n",
       "       -3.3863699e-01, -7.6997226e-01, -4.8349515e-01, -7.7929211e-01,\n",
       "        1.2230918e+00, -3.0977911e-01,  7.8982252e-01,  4.7018817e-01,\n",
       "        1.0624224e+00,  5.9057683e-01, -2.3915103e-01, -7.6595670e-01,\n",
       "       -1.6856905e+00, -2.0550067e+00, -1.1076673e+00, -5.6006515e-01,\n",
       "        8.1462318e-01,  3.6094749e-01,  1.0786586e+00, -1.1916907e+00,\n",
       "        2.3629531e-01, -4.5507213e-01, -8.6859351e-01, -3.1678182e-01,\n",
       "       -6.5530390e-01,  7.3413295e-01,  1.1273567e-01,  8.3645415e-01,\n",
       "       -4.2605266e-02,  1.2194850e+00, -6.2252784e-01, -1.6125385e+00,\n",
       "        8.3762956e-01,  1.2835720e+00,  1.0891932e-01,  7.2020000e-01,\n",
       "       -1.1080385e+00,  1.1584718e+00,  1.0795587e+00,  2.5492315e+00,\n",
       "        9.3400460e-01,  7.1884990e-01, -1.4356403e-01,  1.4888484e+00],\n",
       "      dtype=float32)"
      ]
     },
     "execution_count": 34,
     "metadata": {},
     "output_type": "execute_result"
    }
   ],
   "source": [
    "model['Climax__Air-Please']"
   ]
  },
  {
   "cell_type": "code",
   "execution_count": 35,
   "metadata": {},
   "outputs": [
    {
     "name": "stderr",
     "output_type": "stream",
     "text": [
      "C:\\Users\\Colin\\Anaconda3\\lib\\site-packages\\ipykernel_launcher.py:1: DeprecationWarning: Call to deprecated `__getitem__` (Method will be removed in 4.0.0, use self.wv.__getitem__() instead).\n",
      "  \"\"\"Entry point for launching an IPython kernel.\n"
     ]
    },
    {
     "data": {
      "text/plain": [
       "array([-3.1167367e-03,  2.7032665e-03,  1.7450781e-03,  1.6647959e-03,\n",
       "       -2.8244432e-03,  1.3328119e-03,  1.3247250e-03, -1.2269381e-03,\n",
       "        1.8168101e-04,  2.4940663e-03,  4.2912532e-03, -3.5890758e-03,\n",
       "        2.1712254e-03, -4.2026876e-03, -3.3747016e-03, -1.3283681e-03,\n",
       "       -1.0643722e-03,  1.1455230e-04, -4.9520042e-03,  2.4908108e-03,\n",
       "        1.2804690e-03, -1.1723639e-03, -2.4733919e-04, -1.9074453e-03,\n",
       "        3.1556704e-03,  9.2478999e-04, -4.7469846e-04,  1.1904632e-03,\n",
       "       -1.5694627e-03, -2.7897223e-03,  3.9793979e-03, -4.9401675e-03,\n",
       "       -2.4443530e-03, -9.3370542e-04,  3.7927069e-03, -3.9641680e-03,\n",
       "       -3.4861530e-03, -1.2747382e-03, -2.2433035e-03,  2.6758309e-03,\n",
       "       -2.5926686e-03, -9.1552024e-04,  4.8240013e-03,  4.9283905e-03,\n",
       "       -4.3783193e-03,  7.6640677e-04, -3.3385886e-03,  4.8242277e-03,\n",
       "       -2.2957923e-03,  3.8291141e-03, -1.5124340e-03,  1.9413275e-03,\n",
       "        1.9800005e-04, -2.7698750e-04,  4.3610219e-04, -2.3378942e-03,\n",
       "       -3.7454171e-03,  5.8895064e-04, -2.5254290e-03,  1.3209909e-04,\n",
       "        2.7760160e-03,  2.0561318e-03,  3.5386821e-03, -2.2544516e-03,\n",
       "        2.3179175e-03, -2.2065858e-03, -4.6453825e-03,  3.4534982e-03,\n",
       "       -3.6740256e-03, -1.9176446e-03, -3.7843464e-03, -9.0398511e-04,\n",
       "        3.5326956e-03, -9.3584566e-04, -1.5957436e-03,  2.3170642e-03,\n",
       "       -2.7177462e-03, -2.3258941e-03, -4.6433508e-03,  4.9877388e-04,\n",
       "       -4.4092600e-04,  4.5728702e-03,  3.5673166e-03,  2.9658242e-03,\n",
       "       -1.2644469e-03, -4.4102868e-04,  2.5675436e-03,  1.0750717e-03,\n",
       "        4.2104409e-03,  2.9472124e-03,  4.0677833e-04, -2.9553162e-06,\n",
       "        2.4020046e-03,  2.8092572e-03, -9.6109102e-04,  4.7946214e-03,\n",
       "        2.8980733e-03, -3.7090636e-03, -4.2425478e-03, -7.7306147e-04],\n",
       "      dtype=float32)"
      ]
     },
     "execution_count": 35,
     "metadata": {},
     "output_type": "execute_result"
    }
   ],
   "source": [
    "model['Aretha-Franklin__Respect']"
   ]
  },
  {
   "cell_type": "code",
   "execution_count": 36,
   "metadata": {},
   "outputs": [
    {
     "data": {
      "text/plain": [
       "53031"
      ]
     },
     "execution_count": 36,
     "metadata": {},
     "output_type": "execute_result"
    }
   ],
   "source": [
    "len(model.wv.vocab)\n"
   ]
  },
  {
   "cell_type": "code",
   "execution_count": 37,
   "metadata": {},
   "outputs": [
    {
     "name": "stderr",
     "output_type": "stream",
     "text": [
      "C:\\Users\\Colin\\Anaconda3\\lib\\site-packages\\ipykernel_launcher.py:1: DeprecationWarning: Call to deprecated `most_similar` (Method will be removed in 4.0.0, use self.wv.most_similar() instead).\n",
      "  \"\"\"Entry point for launching an IPython kernel.\n"
     ]
    },
    {
     "data": {
      "text/plain": [
       "[('Philip__Equipe-(feat.-Shiva)', 0.3931697607040405),\n",
       " ('Grandayy__Cave-Down-Low', 0.3874273896217346),\n",
       " ('Los-Chalchaleros__Zambita-Del-Musiquero---Zamba', 0.3762005567550659),\n",
       " ('Raí-Saia-Rodada__Cabeça-Voando', 0.3696287274360657),\n",
       " ('Demet-Akalın__Günaydın-Abla', 0.3696238100528717),\n",
       " ('Chelsea-Staub__Fabulous', 0.3686808943748474),\n",
       " ('Winrich-Adarlo__Reflection', 0.36787354946136475),\n",
       " ('MYMP__Set-You-Free', 0.366684228181839),\n",
       " (\"blink-182__Adam's-Song\", 0.3639986515045166),\n",
       " ('春haru__pls.-tolerate-me---Live-Session', 0.3638336658477783)]"
      ]
     },
     "execution_count": 37,
     "metadata": {},
     "output_type": "execute_result"
    }
   ],
   "source": [
    "model.most_similar(positive=['Aretha-Franklin__Respect'])"
   ]
  },
  {
   "cell_type": "code",
   "execution_count": 43,
   "metadata": {},
   "outputs": [
    {
     "name": "stderr",
     "output_type": "stream",
     "text": [
      "C:\\Users\\Colin\\Anaconda3\\lib\\site-packages\\ipykernel_launcher.py:1: DeprecationWarning: Call to deprecated `most_similar` (Method will be removed in 4.0.0, use self.wv.most_similar() instead).\n",
      "  \"\"\"Entry point for launching an IPython kernel.\n"
     ]
    },
    {
     "data": {
      "text/plain": [
       "[('Moguai__Hold-On-(feat.-Cheat-Codes)---2020-Edit', 0.387521356344223),\n",
       " ('oofoe__lazy-days---Intro', 0.3789067566394806),\n",
       " ('Serena-Assumpção__Do-Tata-Nzambi', 0.3605659604072571),\n",
       " ('Melanie-Martinez__Mad-Hatter', 0.35902583599090576),\n",
       " ('Cupido__Autoestima', 0.3590046763420105),\n",
       " ('Alex-Ubago__A-gritos-de-esperanza', 0.3539156913757324),\n",
       " ('Ufo361__Schlafen', 0.35250183939933777),\n",
       " ('Rufus-Longspring__Long-Gonzalo', 0.3513978123664856),\n",
       " ('Donovan__Hey-Gyp-(Dig-the-Slowness)', 0.3466576635837555),\n",
       " ('Henk-Dissel__Een-bom', 0.3442409038543701)]"
      ]
     },
     "execution_count": 43,
     "metadata": {},
     "output_type": "execute_result"
    }
   ],
   "source": [
    "model.most_similar(positive=['Tina-Turner__The-Best'])"
   ]
  },
  {
   "cell_type": "code",
   "execution_count": null,
   "metadata": {},
   "outputs": [],
   "source": []
  }
 ],
 "metadata": {
  "kernelspec": {
   "display_name": "Python 3",
   "language": "python",
   "name": "python3"
  },
  "language_info": {
   "codemirror_mode": {
    "name": "ipython",
    "version": 3
   },
   "file_extension": ".py",
   "mimetype": "text/x-python",
   "name": "python",
   "nbconvert_exporter": "python",
   "pygments_lexer": "ipython3",
   "version": "3.7.4"
  }
 },
 "nbformat": 4,
 "nbformat_minor": 2
}
