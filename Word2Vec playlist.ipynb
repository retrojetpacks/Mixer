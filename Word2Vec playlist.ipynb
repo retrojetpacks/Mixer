{
 "cells": [
  {
   "cell_type": "markdown",
   "metadata": {},
   "source": [
    "# Try word2vec on song playlists"
   ]
  },
  {
   "cell_type": "code",
   "execution_count": 18,
   "metadata": {},
   "outputs": [],
   "source": [
    "import os\n",
    "import csv\n",
    "import gensim, logging\n",
    "\n",
    "import time\n",
    "\n",
    "import logging  # Setting up the loggings to monitor gensim\n",
    "logging.basicConfig(format=\"%(levelname)s - %(asctime)s: %(message)s\", datefmt= '%H:%M:%S', level=logging.INFO)"
   ]
  },
  {
   "cell_type": "code",
   "execution_count": 19,
   "metadata": {},
   "outputs": [],
   "source": [
    "playlist_dir = \"C:/Users/Colin/Documents/Playlist maker/spotify_playlists/\"\n",
    "#playlist_dir = \"C:/Users/Colin/Documents/Playlist maker/demo_playlists/\""
   ]
  },
  {
   "cell_type": "code",
   "execution_count": 51,
   "metadata": {},
   "outputs": [],
   "source": [
    "#Create playlist iterator object\n",
    "#__iter__ functions like a 'next'\n",
    "\n",
    "#iterate though all rows of all csv files\n",
    "#needs to yield sentences (playlists)\n",
    "\n",
    "class MyPlaylists(object):\n",
    "    def __init__(self, dirname):\n",
    "        self.dirname = dirname\n",
    " \n",
    "    def __iter__(self):\n",
    "        #for fname in os.listdir(self.dirname):\n",
    "        #fnames = [os.listdir(self.dirname)[0]]\n",
    "        fnames = os.listdir(self.dirname)\n",
    "        for fname in fnames: #just first\n",
    "            print('Starting playlist: ' + fname)\n",
    "            fullname = self.dirname + fname\n",
    "            \n",
    "            with open(fullname, 'rt', encoding='utf-8') as csvfile: \n",
    "                \n",
    "                csvfile.seek(5)\n",
    "                print(csvfile.readline())\n",
    "                dialect = csv.Sniffer().sniff(csvfile.readline(), delimiters=';|')\n",
    "                print(dialect.delimiter)\n",
    "                time.sleep(1)\n",
    "\n",
    "                csvfile.seek(0)\n",
    "                spamReader = csv.reader(csvfile, delimiter=dialect.delimiter)\n",
    "                next(spamReader) #skip first playlist title\n",
    "                i = 0\n",
    "                title = False\n",
    "\n",
    "                playlist = []\n",
    "                #row [name, artist, id, sample-url]\n",
    "                for row in spamReader:\n",
    "                    #print(row)\n",
    "                    #time.sleep(0.2)\n",
    "\n",
    "                    i+= 1\n",
    "                    #print(row.split(\";\"))\n",
    "                    try:\n",
    "                        #print(row[0])\n",
    "                        if row[0] == '':\n",
    "                            #print('empty row')\n",
    "                            if i % 1000 == 0:\n",
    "                                print('Reached playlist: ' + str(i))\n",
    "                            yield playlist\n",
    "                            title = True\n",
    "                        elif title == True:\n",
    "                            title = False  \n",
    "                        else:\n",
    "                            artist = row[0].replace(\" \", \"-\").lower()\n",
    "                            song = row[1].replace(\" \", \"-\").lower()\n",
    "                            playlist.append(artist + \"__\" + song)\n",
    "                    except IndexError as e:\n",
    "                        print(e)\n",
    "                        print('Index error at row: ' + str(i))\n",
    "                        pass\n",
    "\n",
    "                #return final playlist\n",
    "                yield playlist\n",
    "\n",
    "playlists = MyPlaylists(playlist_dir) # a memory-friendly iterator"
   ]
  },
  {
   "cell_type": "code",
   "execution_count": 52,
   "metadata": {},
   "outputs": [],
   "source": [
    "#Test iterator\n",
    "#for play in playlists:\n",
    "#    print(play)"
   ]
  },
  {
   "cell_type": "markdown",
   "metadata": {},
   "source": [
    "# Set up model"
   ]
  },
  {
   "cell_type": "code",
   "execution_count": 53,
   "metadata": {},
   "outputs": [],
   "source": [
    "w2v_model = gensim.models.Word2Vec(min_count=10, workers=2)"
   ]
  },
  {
   "cell_type": "code",
   "execution_count": null,
   "metadata": {},
   "outputs": [
    {
     "name": "stderr",
     "output_type": "stream",
     "text": [
      "INFO - 19:50:29: collecting all words and their counts\n"
     ]
    },
    {
     "name": "stdout",
     "output_type": "stream",
     "text": [
      "Starting playlist: playlists_a.csv\n",
      " AA Antiguas/Viejas 👹\n",
      "\n",
      "|\n"
     ]
    },
    {
     "name": "stderr",
     "output_type": "stream",
     "text": [
      "INFO - 19:50:30: PROGRESS: at sentence #0, processed 0 words, keeping 0 word types\n"
     ]
    },
    {
     "name": "stdout",
     "output_type": "stream",
     "text": [
      "Starting playlist: playlists_b.csv\n",
      "a Americana;;;;;\n",
      "\n",
      ";\n",
      "Reached playlist: 84000\n",
      "Starting playlist: playlists_c.csv\n",
      "ngue en casa;;;;;\n",
      "\n",
      ";\n",
      "Reached playlist: 4000\n",
      "Reached playlist: 10000\n",
      "Reached playlist: 98000\n",
      "Reached playlist: 180000\n",
      "Starting playlist: playlists_d.csv\n",
      " Brandneu\n",
      "\n",
      "|\n",
      "list index out of range\n",
      "Index error at row: 27300\n",
      "list index out of range\n",
      "Index error at row: 27592\n",
      "Reached playlist: 122000\n",
      "Starting playlist: playlists_e.csv\n",
      " & Easy\n",
      "\n",
      "|\n",
      "list index out of range\n",
      "Index error at row: 114703\n"
     ]
    },
    {
     "name": "stderr",
     "output_type": "stream",
     "text": [
      "INFO - 19:56:47: PROGRESS: at sentence #10000, processed 725885823 words, keeping 292489 word types\n"
     ]
    },
    {
     "name": "stdout",
     "output_type": "stream",
     "text": [
      "Starting playlist: playlists_f.csv\n",
      "avorites\n",
      "\n",
      "|\n",
      "list index out of range\n",
      "Index error at row: 4060\n",
      "Reached playlist: 54000\n",
      "Reached playlist: 85000\n",
      "Reached playlist: 89000\n",
      "Reached playlist: 125000\n",
      "Reached playlist: 128000\n",
      "Reached playlist: 166000\n"
     ]
    }
   ],
   "source": [
    "t = time.time()\n",
    "\n",
    "w2v_model.build_vocab(playlists, progress_per=10000)\n",
    "\n",
    "print('Time to build vocab: {} mins'.format(round((time.time() - t) / 60, 2)))"
   ]
  },
  {
   "cell_type": "code",
   "execution_count": null,
   "metadata": {},
   "outputs": [],
   "source": [
    "#Number of sentences\n",
    "w2v_model.corpus_count"
   ]
  },
  {
   "cell_type": "code",
   "execution_count": null,
   "metadata": {},
   "outputs": [],
   "source": [
    "#Vocab length\n",
    "len(w2v_model.wv.vocab)"
   ]
  },
  {
   "cell_type": "code",
   "execution_count": null,
   "metadata": {},
   "outputs": [],
   "source": [
    "t = time.time()\n",
    "\n",
    "w2v_model.train(playlists, total_examples=w2v_model.corpus_count, epochs=10, report_delay=1)\n",
    "\n",
    "print('Time to train the model: {} mins'.format(round((time.time() - t) / 60, 2)))"
   ]
  },
  {
   "cell_type": "code",
   "execution_count": null,
   "metadata": {},
   "outputs": [],
   "source": [
    "w2v_model['climax__air-please']"
   ]
  },
  {
   "cell_type": "code",
   "execution_count": null,
   "metadata": {},
   "outputs": [],
   "source": [
    "w2v_model['aretha-franklin__respect']"
   ]
  },
  {
   "cell_type": "code",
   "execution_count": null,
   "metadata": {},
   "outputs": [],
   "source": [
    "len(w2v_model.wv.vocab)\n"
   ]
  },
  {
   "cell_type": "code",
   "execution_count": null,
   "metadata": {},
   "outputs": [],
   "source": [
    "w2v_model.most_similar(positive=['aretha-franklin__respect'])"
   ]
  },
  {
   "cell_type": "code",
   "execution_count": null,
   "metadata": {},
   "outputs": [],
   "source": [
    "w2v_model.most_similar(positive=['tina-turner__the-best'])"
   ]
  },
  {
   "cell_type": "code",
   "execution_count": null,
   "metadata": {},
   "outputs": [],
   "source": [
    "w2v_model.wv.similarity('tina-turner__the-best', 'aretha-franklin__respect')"
   ]
  },
  {
   "cell_type": "code",
   "execution_count": null,
   "metadata": {},
   "outputs": [],
   "source": [
    "w2v_model.wv.similarity('men-at-work__down-under', 'toto__africa')"
   ]
  },
  {
   "cell_type": "code",
   "execution_count": null,
   "metadata": {},
   "outputs": [],
   "source": [
    "w2v_model.most_similar(positive=['toto__africa'])"
   ]
  },
  {
   "cell_type": "code",
   "execution_count": null,
   "metadata": {},
   "outputs": [],
   "source": []
  }
 ],
 "metadata": {
  "kernelspec": {
   "display_name": "Python 3",
   "language": "python",
   "name": "python3"
  },
  "language_info": {
   "codemirror_mode": {
    "name": "ipython",
    "version": 3
   },
   "file_extension": ".py",
   "mimetype": "text/x-python",
   "name": "python",
   "nbconvert_exporter": "python",
   "pygments_lexer": "ipython3",
   "version": "3.7.4"
  }
 },
 "nbformat": 4,
 "nbformat_minor": 2
}
